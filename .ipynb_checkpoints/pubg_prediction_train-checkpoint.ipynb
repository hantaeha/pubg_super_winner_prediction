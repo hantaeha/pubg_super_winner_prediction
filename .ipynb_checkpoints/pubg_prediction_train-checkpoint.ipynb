{
 "cells": [
  {
   "cell_type": "code",
   "execution_count": 1,
   "metadata": {},
   "outputs": [],
   "source": [
    "from keras.models import Sequential\n",
    "from keras.layers import Dense, Flatten\n",
    "from keras.utils import np_utils\n",
    "from keras.utils.vis_utils import plot_model\n",
    "from keras.callbacks import ModelCheckpoint\n",
    "from sklearn.model_selection import train_test_split\n",
    "from sklearn.preprocessing import LabelEncoder\n",
    "\n",
    "import pandas as pd\n",
    "import seaborn as sns\n",
    "import numpy as np\n",
    "import matplotlib.pyplot as plt\n",
    "import os\n",
    "import tensorflow as tf"
   ]
  },
  {
   "cell_type": "code",
   "execution_count": 2,
   "metadata": {},
   "outputs": [],
   "source": [
    "seed = 0\n",
    "np.random.seed(seed)\n",
    "tf.random.set_seed(seed)"
   ]
  },
  {
   "cell_type": "code",
   "execution_count": 3,
   "metadata": {},
   "outputs": [],
   "source": [
    "df_pre = pd.read_csv('data/SuperRuleData220807.csv', header=0)\n",
    "df = df_pre.sample(frac=1)"
   ]
  },
  {
   "cell_type": "code",
   "execution_count": 4,
   "metadata": {},
   "outputs": [
    {
     "data": {
      "text/html": [
       "<div>\n",
       "<style scoped>\n",
       "    .dataframe tbody tr th:only-of-type {\n",
       "        vertical-align: middle;\n",
       "    }\n",
       "\n",
       "    .dataframe tbody tr th {\n",
       "        vertical-align: top;\n",
       "    }\n",
       "\n",
       "    .dataframe thead th {\n",
       "        text-align: right;\n",
       "    }\n",
       "</style>\n",
       "<table border=\"1\" class=\"dataframe\">\n",
       "  <thead>\n",
       "    <tr style=\"text-align: right;\">\n",
       "      <th></th>\n",
       "      <th>KILLSTANDARDIZED</th>\n",
       "      <th>PLACE STANDARDIZED</th>\n",
       "      <th>RANK</th>\n",
       "    </tr>\n",
       "  </thead>\n",
       "  <tbody>\n",
       "    <tr>\n",
       "      <th>0</th>\n",
       "      <td>1.298894</td>\n",
       "      <td>1.495066</td>\n",
       "      <td>1</td>\n",
       "    </tr>\n",
       "    <tr>\n",
       "      <th>1</th>\n",
       "      <td>1.517655</td>\n",
       "      <td>0.815490</td>\n",
       "      <td>2</td>\n",
       "    </tr>\n",
       "    <tr>\n",
       "      <th>2</th>\n",
       "      <td>1.517655</td>\n",
       "      <td>-0.135915</td>\n",
       "      <td>3</td>\n",
       "    </tr>\n",
       "    <tr>\n",
       "      <th>3</th>\n",
       "      <td>0.751991</td>\n",
       "      <td>0.543660</td>\n",
       "      <td>4</td>\n",
       "    </tr>\n",
       "    <tr>\n",
       "      <th>4</th>\n",
       "      <td>0.533230</td>\n",
       "      <td>0.815490</td>\n",
       "      <td>5</td>\n",
       "    </tr>\n",
       "    <tr>\n",
       "      <th>...</th>\n",
       "      <td>...</td>\n",
       "      <td>...</td>\n",
       "      <td>...</td>\n",
       "    </tr>\n",
       "    <tr>\n",
       "      <th>1035</th>\n",
       "      <td>-0.404703</td>\n",
       "      <td>-0.487114</td>\n",
       "      <td>12</td>\n",
       "    </tr>\n",
       "    <tr>\n",
       "      <th>1036</th>\n",
       "      <td>-1.032898</td>\n",
       "      <td>-0.487114</td>\n",
       "      <td>13</td>\n",
       "    </tr>\n",
       "    <tr>\n",
       "      <th>1037</th>\n",
       "      <td>-0.694639</td>\n",
       "      <td>-0.593879</td>\n",
       "      <td>14</td>\n",
       "    </tr>\n",
       "    <tr>\n",
       "      <th>1038</th>\n",
       "      <td>-1.177866</td>\n",
       "      <td>-1.554762</td>\n",
       "      <td>15</td>\n",
       "    </tr>\n",
       "    <tr>\n",
       "      <th>1039</th>\n",
       "      <td>-1.129543</td>\n",
       "      <td>-1.554762</td>\n",
       "      <td>16</td>\n",
       "    </tr>\n",
       "  </tbody>\n",
       "</table>\n",
       "<p>1040 rows × 3 columns</p>\n",
       "</div>"
      ],
      "text/plain": [
       "      KILLSTANDARDIZED  PLACE STANDARDIZED  RANK\n",
       "0             1.298894            1.495066     1\n",
       "1             1.517655            0.815490     2\n",
       "2             1.517655           -0.135915     3\n",
       "3             0.751991            0.543660     4\n",
       "4             0.533230            0.815490     5\n",
       "...                ...                 ...   ...\n",
       "1035         -0.404703           -0.487114    12\n",
       "1036         -1.032898           -0.487114    13\n",
       "1037         -0.694639           -0.593879    14\n",
       "1038         -1.177866           -1.554762    15\n",
       "1039         -1.129543           -1.554762    16\n",
       "\n",
       "[1040 rows x 3 columns]"
      ]
     },
     "execution_count": 4,
     "metadata": {},
     "output_type": "execute_result"
    }
   ],
   "source": [
    "df_pre"
   ]
  },
  {
   "cell_type": "code",
   "execution_count": 5,
   "metadata": {},
   "outputs": [],
   "source": [
    "#df"
   ]
  },
  {
   "cell_type": "code",
   "execution_count": 6,
   "metadata": {},
   "outputs": [
    {
     "name": "stdout",
     "output_type": "stream",
     "text": [
      "<class 'pandas.core.frame.DataFrame'>\n",
      "Int64Index: 1040 entries, 631 to 684\n",
      "Data columns (total 3 columns):\n",
      " #   Column              Non-Null Count  Dtype  \n",
      "---  ------              --------------  -----  \n",
      " 0   KILLSTANDARDIZED    1040 non-null   float64\n",
      " 1   PLACE STANDARDIZED  1040 non-null   float64\n",
      " 2   RANK                1040 non-null   int64  \n",
      "dtypes: float64(2), int64(1)\n",
      "memory usage: 32.5 KB\n"
     ]
    }
   ],
   "source": [
    "df.info()"
   ]
  },
  {
   "cell_type": "code",
   "execution_count": 7,
   "metadata": {},
   "outputs": [],
   "source": [
    "dataset = df.values\n",
    "X = dataset[:,0:2]\n",
    "Y = dataset[:,2]"
   ]
  },
  {
   "cell_type": "code",
   "execution_count": 8,
   "metadata": {},
   "outputs": [
    {
     "data": {
      "text/plain": [
       "array([[-0.03263437,  0.73950997],\n",
       "       [-0.32935982, -0.16681996],\n",
       "       [-0.95282066, -0.74535599],\n",
       "       [-1.87195721, -1.59766111],\n",
       "       [-0.03610948, -0.58176254],\n",
       "       [ 1.26457741,  0.79406303],\n",
       "       [ 0.4694232 ,  0.11635251],\n",
       "       [-0.49358403, -0.4871143 ],\n",
       "       [-0.60929845,  0.43605142],\n",
       "       [-1.41080106, -0.5134899 ]])"
      ]
     },
     "execution_count": 8,
     "metadata": {},
     "output_type": "execute_result"
    }
   ],
   "source": [
    "X[:10]"
   ]
  },
  {
   "cell_type": "code",
   "execution_count": 9,
   "metadata": {},
   "outputs": [
    {
     "data": {
      "text/plain": [
       "array([ 8.,  8., 13., 16.,  8.,  4.,  4., 11., 12., 15.])"
      ]
     },
     "execution_count": 9,
     "metadata": {},
     "output_type": "execute_result"
    }
   ],
   "source": [
    "Y[:10]"
   ]
  },
  {
   "cell_type": "code",
   "execution_count": 10,
   "metadata": {},
   "outputs": [],
   "source": [
    "e = LabelEncoder()\n",
    "e.fit(Y)\n",
    "Y_trans = e.transform(Y)\n",
    "Y_encoded = np_utils.to_categorical(Y_trans)"
   ]
  },
  {
   "cell_type": "code",
   "execution_count": 11,
   "metadata": {
    "scrolled": true
   },
   "outputs": [
    {
     "data": {
      "text/plain": [
       "array([[0., 0., 0., 0., 0., 0., 0., 1., 0., 0., 0., 0., 0., 0., 0., 0.],\n",
       "       [0., 0., 0., 0., 0., 0., 0., 1., 0., 0., 0., 0., 0., 0., 0., 0.],\n",
       "       [0., 0., 0., 0., 0., 0., 0., 0., 0., 0., 0., 0., 1., 0., 0., 0.]],\n",
       "      dtype=float32)"
      ]
     },
     "execution_count": 11,
     "metadata": {},
     "output_type": "execute_result"
    }
   ],
   "source": [
    "Y_encoded[:3]"
   ]
  },
  {
   "cell_type": "code",
   "execution_count": 12,
   "metadata": {},
   "outputs": [],
   "source": [
    "X_train, X_valid, Y_train, Y_valid = train_test_split(X, Y_encoded, test_size=0.2, random_state=seed)"
   ]
  },
  {
   "cell_type": "code",
   "execution_count": 13,
   "metadata": {},
   "outputs": [
    {
     "data": {
      "text/plain": [
       "832"
      ]
     },
     "execution_count": 13,
     "metadata": {},
     "output_type": "execute_result"
    }
   ],
   "source": [
    "len(X_train)"
   ]
  },
  {
   "cell_type": "code",
   "execution_count": 14,
   "metadata": {},
   "outputs": [
    {
     "data": {
      "text/plain": [
       "array([[-0.10340615,  0.36353623],\n",
       "       [ 0.61078556, -0.36353623],\n",
       "       [-1.36930639, -0.2236068 ]])"
      ]
     },
     "execution_count": 14,
     "metadata": {},
     "output_type": "execute_result"
    }
   ],
   "source": [
    "X_train[:3]"
   ]
  },
  {
   "cell_type": "code",
   "execution_count": 15,
   "metadata": {},
   "outputs": [
    {
     "data": {
      "text/plain": [
       "(2,)"
      ]
     },
     "execution_count": 15,
     "metadata": {},
     "output_type": "execute_result"
    }
   ],
   "source": [
    "X_train[0].shape"
   ]
  },
  {
   "cell_type": "code",
   "execution_count": 16,
   "metadata": {},
   "outputs": [
    {
     "data": {
      "text/plain": [
       "array([[0., 0., 0., 0., 0., 0., 0., 0., 1., 0., 0., 0., 0., 0., 0., 0.],\n",
       "       [0., 0., 0., 0., 0., 1., 0., 0., 0., 0., 0., 0., 0., 0., 0., 0.],\n",
       "       [0., 0., 0., 0., 0., 0., 0., 0., 0., 0., 0., 0., 0., 1., 0., 0.]],\n",
       "      dtype=float32)"
      ]
     },
     "execution_count": 16,
     "metadata": {},
     "output_type": "execute_result"
    }
   ],
   "source": [
    "Y_train[:3]"
   ]
  },
  {
   "cell_type": "code",
   "execution_count": 17,
   "metadata": {},
   "outputs": [
    {
     "data": {
      "text/plain": [
       "(16,)"
      ]
     },
     "execution_count": 17,
     "metadata": {},
     "output_type": "execute_result"
    }
   ],
   "source": [
    "Y_train[0].shape"
   ]
  },
  {
   "cell_type": "code",
   "execution_count": 18,
   "metadata": {},
   "outputs": [],
   "source": [
    "#model = Sequential()\n",
    "#model.add(Dense(16, input_dim=2, activation='sigmoid'))\n",
    "#model.add(Dense(32, activation='relu'))\n",
    "#model.add(Dense(16, activation='softmax'))"
   ]
  },
  {
   "cell_type": "code",
   "execution_count": 19,
   "metadata": {},
   "outputs": [
    {
     "name": "stdout",
     "output_type": "stream",
     "text": [
      "Metal device set to: Apple M1\n"
     ]
    },
    {
     "name": "stderr",
     "output_type": "stream",
     "text": [
      "2022-08-08 12:36:09.823114: I tensorflow/core/common_runtime/pluggable_device/pluggable_device_factory.cc:305] Could not identify NUMA node of platform GPU ID 0, defaulting to 0. Your kernel may not have been built with NUMA support.\n",
      "2022-08-08 12:36:09.823342: I tensorflow/core/common_runtime/pluggable_device/pluggable_device_factory.cc:271] Created TensorFlow device (/job:localhost/replica:0/task:0/device:GPU:0 with 0 MB memory) -> physical PluggableDevice (device: 0, name: METAL, pci bus id: <undefined>)\n"
     ]
    }
   ],
   "source": [
    "model = Sequential([\n",
    "                    Flatten(input_shape=(2,)),\n",
    "                    Dense(16, activation='sigmoid', name=\"layer1\"),\n",
    "                    Dense(32, activation='relu', name=\"layer2\"),\n",
    "                    Dense(16, activation='softmax', name=\"layer3\")\n",
    "                    ])"
   ]
  },
  {
   "cell_type": "code",
   "execution_count": 20,
   "metadata": {},
   "outputs": [
    {
     "name": "stdout",
     "output_type": "stream",
     "text": [
      "Model: \"sequential\"\n",
      "_________________________________________________________________\n",
      " Layer (type)                Output Shape              Param #   \n",
      "=================================================================\n",
      " flatten (Flatten)           (None, 2)                 0         \n",
      "                                                                 \n",
      " layer1 (Dense)              (None, 16)                48        \n",
      "                                                                 \n",
      " layer2 (Dense)              (None, 32)                544       \n",
      "                                                                 \n",
      " layer3 (Dense)              (None, 16)                528       \n",
      "                                                                 \n",
      "=================================================================\n",
      "Total params: 1,120\n",
      "Trainable params: 1,120\n",
      "Non-trainable params: 0\n",
      "_________________________________________________________________\n"
     ]
    }
   ],
   "source": [
    "model.summary()"
   ]
  },
  {
   "cell_type": "code",
   "execution_count": 30,
   "metadata": {},
   "outputs": [
    {
     "data": {
      "image/png": "[encoded data removed]",
      "text/plain": [
       "<IPython.core.display.Image object>"
      ]
     },
     "execution_count": 30,
     "metadata": {},
     "output_type": "execute_result"
    }
   ],
   "source": [
    "plot_model(model, show_layer_activations=True, to_file='model/model.png')"
   ]
  },
  {
   "cell_type": "code",
   "execution_count": 22,
   "metadata": {},
   "outputs": [],
   "source": [
    "checkpoint_path = \"model/checkpoint.h5\"\n",
    "\n",
    "checkpoint = ModelCheckpoint(filepath=checkpoint_path,\n",
    "                             save_weights_only=True,\n",
    "                             save_best_only=True,\n",
    "                             monitor='val_loss',\n",
    "                             verbose=1\n",
    "                            )"
   ]
  },
  {
   "cell_type": "code",
   "execution_count": 23,
   "metadata": {},
   "outputs": [],
   "source": [
    "model.compile(loss='categorical_crossentropy',\n",
    "             optimizer='adam',\n",
    "             metrics=['acc'])"
   ]
  },
  {
   "cell_type": "code",
   "execution_count": 24,
   "metadata": {
    "tags": []
   },
   "outputs": [
    {
     "name": "stderr",
     "output_type": "stream",
     "text": [
      "2022-08-08 12:36:20.504689: W tensorflow/core/platform/profile_utils/cpu_utils.cc:128] Failed to get CPU frequency: 0 Hz\n",
      "2022-08-08 12:36:20.631249: I tensorflow/core/grappler/optimizers/custom_graph_optimizer_registry.cc:112] Plugin optimizer for device_type GPU is enabled.\n"
     ]
    },
    {
     "name": "stdout",
     "output_type": "stream",
     "text": [
      "Epoch 1/100\n",
      "407/416 [============================>.] - ETA: 0s - loss: 2.7021 - acc: 0.1278"
     ]
    },
    {
     "name": "stderr",
     "output_type": "stream",
     "text": [
      "2022-08-08 12:36:22.959767: I tensorflow/core/grappler/optimizers/custom_graph_optimizer_registry.cc:112] Plugin optimizer for device_type GPU is enabled.\n"
     ]
    },
    {
     "name": "stdout",
     "output_type": "stream",
     "text": [
      "\n",
      "Epoch 00001: val_loss improved from inf to 2.51857, saving model to model/checkpoint.h5\n",
      "416/416 [==============================] - 3s 6ms/step - loss: 2.6976 - acc: 0.1286 - val_loss: 2.5186 - val_acc: 0.2163\n",
      "Epoch 2/100\n",
      "411/416 [============================>.] - ETA: 0s - loss: 2.3226 - acc: 0.1788\n",
      "Epoch 00002: val_loss improved from 2.51857 to 2.14141, saving model to model/checkpoint.h5\n",
      "416/416 [==============================] - 3s 6ms/step - loss: 2.3195 - acc: 0.1803 - val_loss: 2.1414 - val_acc: 0.2019\n",
      "Epoch 3/100\n",
      "407/416 [============================>.] - ETA: 0s - loss: 2.0267 - acc: 0.2420\n",
      "Epoch 00003: val_loss improved from 2.14141 to 1.94390, saving model to model/checkpoint.h5\n",
      "416/416 [==============================] - 3s 6ms/step - loss: 2.0227 - acc: 0.2404 - val_loss: 1.9439 - val_acc: 0.2548\n",
      "Epoch 4/100\n",
      "411/416 [============================>.] - ETA: 0s - loss: 1.8572 - acc: 0.2579\n",
      "Epoch 00004: val_loss improved from 1.94390 to 1.80331, saving model to model/checkpoint.h5\n",
      "416/416 [==============================] - 3s 6ms/step - loss: 1.8555 - acc: 0.2584 - val_loss: 1.8033 - val_acc: 0.2933\n",
      "Epoch 5/100\n",
      "408/416 [============================>.] - ETA: 0s - loss: 1.7394 - acc: 0.3272\n",
      "Epoch 00005: val_loss improved from 1.80331 to 1.74310, saving model to model/checkpoint.h5\n",
      "416/416 [==============================] - 3s 6ms/step - loss: 1.7397 - acc: 0.3257 - val_loss: 1.7431 - val_acc: 0.2885\n",
      "Epoch 6/100\n",
      "409/416 [============================>.] - ETA: 0s - loss: 1.6816 - acc: 0.2946\n",
      "Epoch 00006: val_loss improved from 1.74310 to 1.65786, saving model to model/checkpoint.h5\n",
      "416/416 [==============================] - 3s 6ms/step - loss: 1.6785 - acc: 0.2969 - val_loss: 1.6579 - val_acc: 0.2933\n",
      "Epoch 7/100\n",
      "409/416 [============================>.] - ETA: 0s - loss: 1.6253 - acc: 0.3130\n",
      "Epoch 00007: val_loss improved from 1.65786 to 1.62542, saving model to model/checkpoint.h5\n",
      "416/416 [==============================] - 3s 6ms/step - loss: 1.6261 - acc: 0.3137 - val_loss: 1.6254 - val_acc: 0.2837\n",
      "Epoch 8/100\n",
      "411/416 [============================>.] - ETA: 0s - loss: 1.5961 - acc: 0.3163\n",
      "Epoch 00008: val_loss improved from 1.62542 to 1.59072, saving model to model/checkpoint.h5\n",
      "416/416 [==============================] - 3s 6ms/step - loss: 1.5941 - acc: 0.3173 - val_loss: 1.5907 - val_acc: 0.3510\n",
      "Epoch 9/100\n",
      "416/416 [==============================] - ETA: 0s - loss: 1.5636 - acc: 0.3462\n",
      "Epoch 00009: val_loss improved from 1.59072 to 1.55604, saving model to model/checkpoint.h5\n",
      "416/416 [==============================] - 3s 6ms/step - loss: 1.5636 - acc: 0.3462 - val_loss: 1.5560 - val_acc: 0.3029\n",
      "Epoch 10/100\n",
      "410/416 [============================>.] - ETA: 0s - loss: 1.5424 - acc: 0.3439\n",
      "Epoch 00010: val_loss improved from 1.55604 to 1.54758, saving model to model/checkpoint.h5\n",
      "416/416 [==============================] - 3s 6ms/step - loss: 1.5392 - acc: 0.3474 - val_loss: 1.5476 - val_acc: 0.3173\n",
      "Epoch 11/100\n",
      "410/416 [============================>.] - ETA: 0s - loss: 1.5241 - acc: 0.3378\n",
      "Epoch 00011: val_loss improved from 1.54758 to 1.52247, saving model to model/checkpoint.h5\n",
      "416/416 [==============================] - 3s 6ms/step - loss: 1.5300 - acc: 0.3365 - val_loss: 1.5225 - val_acc: 0.3462\n",
      "Epoch 12/100\n",
      "408/416 [============================>.] - ETA: 0s - loss: 1.5102 - acc: 0.3272\n",
      "Epoch 00012: val_loss did not improve from 1.52247\n",
      "416/416 [==============================] - 3s 6ms/step - loss: 1.5132 - acc: 0.3269 - val_loss: 1.5295 - val_acc: 0.3317\n",
      "Epoch 13/100\n",
      "410/416 [============================>.] - ETA: 0s - loss: 1.5021 - acc: 0.3512\n",
      "Epoch 00013: val_loss did not improve from 1.52247\n",
      "416/416 [==============================] - 3s 6ms/step - loss: 1.4995 - acc: 0.3510 - val_loss: 1.5531 - val_acc: 0.3269\n",
      "Epoch 14/100\n",
      "416/416 [==============================] - ETA: 0s - loss: 1.4902 - acc: 0.3738\n",
      "Epoch 00014: val_loss did not improve from 1.52247\n",
      "416/416 [==============================] - 3s 6ms/step - loss: 1.4902 - acc: 0.3738 - val_loss: 1.5237 - val_acc: 0.3221\n",
      "Epoch 15/100\n",
      "408/416 [============================>.] - ETA: 0s - loss: 1.4938 - acc: 0.3358\n",
      "Epoch 00015: val_loss improved from 1.52247 to 1.50813, saving model to model/checkpoint.h5\n",
      "416/416 [==============================] - 3s 6ms/step - loss: 1.4889 - acc: 0.3389 - val_loss: 1.5081 - val_acc: 0.3510\n",
      "Epoch 16/100\n",
      "409/416 [============================>.] - ETA: 0s - loss: 1.4827 - acc: 0.3276\n",
      "Epoch 00016: val_loss improved from 1.50813 to 1.49408, saving model to model/checkpoint.h5\n",
      "416/416 [==============================] - 3s 6ms/step - loss: 1.4842 - acc: 0.3305 - val_loss: 1.4941 - val_acc: 0.3798\n",
      "Epoch 17/100\n",
      "410/416 [============================>.] - ETA: 0s - loss: 1.4695 - acc: 0.3671\n",
      "Epoch 00017: val_loss did not improve from 1.49408\n",
      "416/416 [==============================] - 3s 6ms/step - loss: 1.4706 - acc: 0.3654 - val_loss: 1.5338 - val_acc: 0.3125\n",
      "Epoch 18/100\n",
      "415/416 [============================>.] - ETA: 0s - loss: 1.4665 - acc: 0.3602\n",
      "Epoch 00018: val_loss improved from 1.49408 to 1.48826, saving model to model/checkpoint.h5\n",
      "416/416 [==============================] - 3s 6ms/step - loss: 1.4680 - acc: 0.3594 - val_loss: 1.4883 - val_acc: 0.3558\n",
      "Epoch 19/100\n",
      "410/416 [============================>.] - ETA: 0s - loss: 1.4637 - acc: 0.3756\n",
      "Epoch 00019: val_loss improved from 1.48826 to 1.46382, saving model to model/checkpoint.h5\n",
      "416/416 [==============================] - 3s 6ms/step - loss: 1.4655 - acc: 0.3750 - val_loss: 1.4638 - val_acc: 0.3317\n",
      "Epoch 20/100\n",
      "408/416 [============================>.] - ETA: 0s - loss: 1.4701 - acc: 0.3578\n",
      "Epoch 00020: val_loss did not improve from 1.46382\n",
      "416/416 [==============================] - 3s 6ms/step - loss: 1.4654 - acc: 0.3606 - val_loss: 1.4640 - val_acc: 0.3942\n",
      "Epoch 21/100\n",
      "410/416 [============================>.] - ETA: 0s - loss: 1.4599 - acc: 0.3463\n",
      "Epoch 00021: val_loss did not improve from 1.46382\n",
      "416/416 [==============================] - 3s 6ms/step - loss: 1.4575 - acc: 0.3462 - val_loss: 1.4970 - val_acc: 0.3606\n",
      "Epoch 22/100\n",
      "408/416 [============================>.] - ETA: 0s - loss: 1.4537 - acc: 0.3664\n",
      "Epoch 00022: val_loss did not improve from 1.46382\n",
      "416/416 [==============================] - 3s 6ms/step - loss: 1.4555 - acc: 0.3654 - val_loss: 1.4988 - val_acc: 0.3606\n",
      "Epoch 23/100\n",
      "410/416 [============================>.] - ETA: 0s - loss: 1.4529 - acc: 0.3451\n",
      "Epoch 00023: val_loss improved from 1.46382 to 1.45769, saving model to model/checkpoint.h5\n",
      "416/416 [==============================] - 3s 6ms/step - loss: 1.4547 - acc: 0.3438 - val_loss: 1.4577 - val_acc: 0.3942\n",
      "Epoch 24/100\n",
      "412/416 [============================>.] - ETA: 0s - loss: 1.4518 - acc: 0.3701\n",
      "Epoch 00024: val_loss did not improve from 1.45769\n",
      "416/416 [==============================] - 3s 6ms/step - loss: 1.4539 - acc: 0.3678 - val_loss: 1.4988 - val_acc: 0.3269\n",
      "Epoch 25/100\n",
      "409/416 [============================>.] - ETA: 0s - loss: 1.4563 - acc: 0.3509\n",
      "Epoch 00025: val_loss improved from 1.45769 to 1.43887, saving model to model/checkpoint.h5\n",
      "416/416 [==============================] - 3s 6ms/step - loss: 1.4529 - acc: 0.3534 - val_loss: 1.4389 - val_acc: 0.3798\n",
      "Epoch 26/100\n",
      "409/416 [============================>.] - ETA: 0s - loss: 1.4378 - acc: 0.3533\n",
      "Epoch 00026: val_loss did not improve from 1.43887\n",
      "416/416 [==============================] - 3s 6ms/step - loss: 1.4373 - acc: 0.3534 - val_loss: 1.4660 - val_acc: 0.3606\n",
      "Epoch 27/100\n",
      "407/416 [============================>.] - ETA: 0s - loss: 1.4449 - acc: 0.3833\n",
      "Epoch 00027: val_loss did not improve from 1.43887\n",
      "416/416 [==============================] - 3s 6ms/step - loss: 1.4434 - acc: 0.3822 - val_loss: 1.4904 - val_acc: 0.3702\n",
      "Epoch 28/100\n",
      "407/416 [============================>.] - ETA: 0s - loss: 1.4428 - acc: 0.3636\n",
      "Epoch 00028: val_loss did not improve from 1.43887\n",
      "416/416 [==============================] - 3s 6ms/step - loss: 1.4428 - acc: 0.3630 - val_loss: 1.4853 - val_acc: 0.3365\n",
      "Epoch 29/100\n",
      "416/416 [==============================] - ETA: 0s - loss: 1.4413 - acc: 0.3738\n",
      "Epoch 00029: val_loss did not improve from 1.43887\n",
      "416/416 [==============================] - 3s 6ms/step - loss: 1.4413 - acc: 0.3738 - val_loss: 1.4812 - val_acc: 0.3558\n",
      "Epoch 30/100\n",
      "410/416 [============================>.] - ETA: 0s - loss: 1.4472 - acc: 0.3610\n",
      "Epoch 00030: val_loss did not improve from 1.43887\n",
      "416/416 [==============================] - 3s 6ms/step - loss: 1.4489 - acc: 0.3582 - val_loss: 1.4818 - val_acc: 0.3317\n",
      "Epoch 31/100\n",
      "408/416 [============================>.] - ETA: 0s - loss: 1.4366 - acc: 0.3725\n",
      "Epoch 00031: val_loss did not improve from 1.43887\n",
      "416/416 [==============================] - 3s 6ms/step - loss: 1.4344 - acc: 0.3750 - val_loss: 1.4821 - val_acc: 0.4231\n",
      "Epoch 32/100\n",
      "415/416 [============================>.] - ETA: 0s - loss: 1.4436 - acc: 0.3651\n",
      "Epoch 00032: val_loss did not improve from 1.43887\n",
      "416/416 [==============================] - 3s 6ms/step - loss: 1.4430 - acc: 0.3654 - val_loss: 1.4713 - val_acc: 0.3894\n",
      "Epoch 33/100\n",
      "407/416 [============================>.] - ETA: 0s - loss: 1.4351 - acc: 0.3771\n",
      "Epoch 00033: val_loss did not improve from 1.43887\n",
      "416/416 [==============================] - 3s 6ms/step - loss: 1.4371 - acc: 0.3786 - val_loss: 1.4977 - val_acc: 0.3558\n",
      "Epoch 34/100\n",
      "407/416 [============================>.] - ETA: 0s - loss: 1.4397 - acc: 0.3624\n",
      "Epoch 00034: val_loss did not improve from 1.43887\n",
      "416/416 [==============================] - 3s 6ms/step - loss: 1.4412 - acc: 0.3618 - val_loss: 1.4977 - val_acc: 0.3558\n",
      "Epoch 35/100\n",
      "416/416 [==============================] - ETA: 0s - loss: 1.4366 - acc: 0.3726\n",
      "Epoch 00035: val_loss did not improve from 1.43887\n",
      "416/416 [==============================] - 3s 6ms/step - loss: 1.4366 - acc: 0.3726 - val_loss: 1.4563 - val_acc: 0.3894\n",
      "Epoch 36/100\n",
      "407/416 [============================>.] - ETA: 0s - loss: 1.4379 - acc: 0.3747\n",
      "Epoch 00036: val_loss did not improve from 1.43887\n",
      "416/416 [==============================] - 3s 6ms/step - loss: 1.4295 - acc: 0.3798 - val_loss: 1.4595 - val_acc: 0.3990\n",
      "Epoch 37/100\n",
      "411/416 [============================>.] - ETA: 0s - loss: 1.4388 - acc: 0.3735\n",
      "Epoch 00037: val_loss did not improve from 1.43887\n",
      "416/416 [==============================] - 3s 7ms/step - loss: 1.4383 - acc: 0.3750 - val_loss: 1.4771 - val_acc: 0.3413\n",
      "Epoch 38/100\n",
      "412/416 [============================>.] - ETA: 0s - loss: 1.4330 - acc: 0.3714\n",
      "Epoch 00038: val_loss did not improve from 1.43887\n",
      "416/416 [==============================] - 3s 7ms/step - loss: 1.4309 - acc: 0.3726 - val_loss: 1.4598 - val_acc: 0.3462\n",
      "Epoch 39/100\n",
      "415/416 [============================>.] - ETA: 0s - loss: 1.4388 - acc: 0.3735\n",
      "Epoch 00039: val_loss did not improve from 1.43887\n",
      "416/416 [==============================] - 3s 6ms/step - loss: 1.4377 - acc: 0.3738 - val_loss: 1.4510 - val_acc: 0.3462\n",
      "Epoch 40/100\n",
      "408/416 [============================>.] - ETA: 0s - loss: 1.4300 - acc: 0.3824\n",
      "Epoch 00040: val_loss did not improve from 1.43887\n",
      "416/416 [==============================] - 3s 6ms/step - loss: 1.4300 - acc: 0.3774 - val_loss: 1.4792 - val_acc: 0.3750\n",
      "Epoch 41/100\n",
      "407/416 [============================>.] - ETA: 0s - loss: 1.4222 - acc: 0.3870\n",
      "Epoch 00041: val_loss did not improve from 1.43887\n",
      "416/416 [==============================] - 3s 6ms/step - loss: 1.4265 - acc: 0.3846 - val_loss: 1.4934 - val_acc: 0.3846\n",
      "Epoch 42/100\n",
      "409/416 [============================>.] - ETA: 0s - loss: 1.4353 - acc: 0.3936\n",
      "Epoch 00042: val_loss did not improve from 1.43887\n",
      "416/416 [==============================] - 3s 6ms/step - loss: 1.4319 - acc: 0.3954 - val_loss: 1.4403 - val_acc: 0.3558\n",
      "Epoch 43/100\n",
      "413/416 [============================>.] - ETA: 0s - loss: 1.4266 - acc: 0.3801\n",
      "Epoch 00043: val_loss did not improve from 1.43887\n",
      "416/416 [==============================] - 3s 6ms/step - loss: 1.4290 - acc: 0.3786 - val_loss: 1.4434 - val_acc: 0.3654\n",
      "Epoch 44/100\n",
      "416/416 [==============================] - ETA: 0s - loss: 1.4259 - acc: 0.3570\n",
      "Epoch 00044: val_loss did not improve from 1.43887\n",
      "416/416 [==============================] - 3s 6ms/step - loss: 1.4259 - acc: 0.3570 - val_loss: 1.4539 - val_acc: 0.3798\n",
      "Epoch 45/100\n",
      "408/416 [============================>.] - ETA: 0s - loss: 1.4328 - acc: 0.3836\n",
      "Epoch 00045: val_loss did not improve from 1.43887\n",
      "416/416 [==============================] - 3s 6ms/step - loss: 1.4310 - acc: 0.3870 - val_loss: 1.4523 - val_acc: 0.3894\n",
      "Epoch 46/100\n",
      "413/416 [============================>.] - ETA: 0s - loss: 1.4328 - acc: 0.3717\n",
      "Epoch 00046: val_loss did not improve from 1.43887\n",
      "416/416 [==============================] - 3s 6ms/step - loss: 1.4295 - acc: 0.3738 - val_loss: 1.4757 - val_acc: 0.3510\n",
      "Epoch 47/100\n",
      "414/416 [============================>.] - ETA: 0s - loss: 1.4223 - acc: 0.3901\n",
      "Epoch 00047: val_loss did not improve from 1.43887\n",
      "416/416 [==============================] - 3s 6ms/step - loss: 1.4222 - acc: 0.3906 - val_loss: 1.5066 - val_acc: 0.3462\n",
      "Epoch 48/100\n",
      "416/416 [==============================] - ETA: 0s - loss: 1.4301 - acc: 0.3570\n",
      "Epoch 00048: val_loss did not improve from 1.43887\n",
      "416/416 [==============================] - 3s 6ms/step - loss: 1.4301 - acc: 0.3570 - val_loss: 1.4729 - val_acc: 0.3510\n",
      "Epoch 49/100\n",
      "408/416 [============================>.] - ETA: 0s - loss: 1.4237 - acc: 0.3701\n",
      "Epoch 00049: val_loss did not improve from 1.43887\n",
      "416/416 [==============================] - 3s 6ms/step - loss: 1.4286 - acc: 0.3666 - val_loss: 1.4518 - val_acc: 0.3798\n",
      "Epoch 50/100\n",
      "407/416 [============================>.] - ETA: 0s - loss: 1.4310 - acc: 0.3907\n",
      "Epoch 00050: val_loss did not improve from 1.43887\n",
      "416/416 [==============================] - 3s 6ms/step - loss: 1.4250 - acc: 0.3954 - val_loss: 1.4993 - val_acc: 0.4279\n",
      "Epoch 51/100\n",
      "407/416 [============================>.] - ETA: 0s - loss: 1.4228 - acc: 0.3821\n",
      "Epoch 00051: val_loss did not improve from 1.43887\n",
      "416/416 [==============================] - 3s 6ms/step - loss: 1.4216 - acc: 0.3834 - val_loss: 1.4796 - val_acc: 0.3702\n",
      "Epoch 52/100\n",
      "410/416 [============================>.] - ETA: 0s - loss: 1.4297 - acc: 0.3683\n",
      "Epoch 00052: val_loss did not improve from 1.43887\n",
      "416/416 [==============================] - 3s 6ms/step - loss: 1.4266 - acc: 0.3714 - val_loss: 1.4852 - val_acc: 0.3894\n",
      "Epoch 53/100\n",
      "415/416 [============================>.] - ETA: 0s - loss: 1.4241 - acc: 0.3687\n",
      "Epoch 00053: val_loss did not improve from 1.43887\n",
      "416/416 [==============================] - 3s 6ms/step - loss: 1.4241 - acc: 0.3690 - val_loss: 1.4659 - val_acc: 0.3558\n",
      "Epoch 54/100\n",
      "408/416 [============================>.] - ETA: 0s - loss: 1.4256 - acc: 0.3529\n",
      "Epoch 00054: val_loss did not improve from 1.43887\n",
      "416/416 [==============================] - 3s 6ms/step - loss: 1.4287 - acc: 0.3534 - val_loss: 1.4646 - val_acc: 0.3942\n",
      "Epoch 55/100\n",
      "407/416 [============================>.] - ETA: 0s - loss: 1.4236 - acc: 0.3673\n",
      "Epoch 00055: val_loss did not improve from 1.43887\n",
      "416/416 [==============================] - 3s 6ms/step - loss: 1.4272 - acc: 0.3666 - val_loss: 1.4619 - val_acc: 0.3654\n",
      "Epoch 56/100\n",
      "413/416 [============================>.] - ETA: 0s - loss: 1.4175 - acc: 0.3947\n",
      "Epoch 00056: val_loss did not improve from 1.43887\n",
      "416/416 [==============================] - 3s 6ms/step - loss: 1.4150 - acc: 0.3942 - val_loss: 1.4788 - val_acc: 0.3702\n",
      "Epoch 57/100\n",
      "412/416 [============================>.] - ETA: 0s - loss: 1.4229 - acc: 0.3617\n",
      "Epoch 00057: val_loss did not improve from 1.43887\n",
      "416/416 [==============================] - 3s 7ms/step - loss: 1.4200 - acc: 0.3642 - val_loss: 1.4607 - val_acc: 0.3894\n",
      "Epoch 58/100\n",
      "411/416 [============================>.] - ETA: 0s - loss: 1.4244 - acc: 0.3820\n",
      "Epoch 00058: val_loss did not improve from 1.43887\n",
      "416/416 [==============================] - 3s 7ms/step - loss: 1.4239 - acc: 0.3822 - val_loss: 1.4693 - val_acc: 0.3750\n",
      "Epoch 59/100\n",
      "416/416 [==============================] - ETA: 0s - loss: 1.4191 - acc: 0.3870\n",
      "Epoch 00059: val_loss did not improve from 1.43887\n",
      "416/416 [==============================] - 3s 7ms/step - loss: 1.4191 - acc: 0.3870 - val_loss: 1.4870 - val_acc: 0.3654\n",
      "Epoch 60/100\n",
      "409/416 [============================>.] - ETA: 0s - loss: 1.4193 - acc: 0.3765\n",
      "Epoch 00060: val_loss did not improve from 1.43887\n",
      "416/416 [==============================] - 3s 6ms/step - loss: 1.4185 - acc: 0.3750 - val_loss: 1.4676 - val_acc: 0.3750\n",
      "Epoch 61/100\n",
      "413/416 [============================>.] - ETA: 0s - loss: 1.4285 - acc: 0.3620\n",
      "Epoch 00061: val_loss did not improve from 1.43887\n",
      "416/416 [==============================] - 3s 6ms/step - loss: 1.4295 - acc: 0.3618 - val_loss: 1.4500 - val_acc: 0.4038\n",
      "Epoch 62/100\n",
      "407/416 [============================>.] - ETA: 0s - loss: 1.4236 - acc: 0.3857\n",
      "Epoch 00062: val_loss did not improve from 1.43887\n",
      "416/416 [==============================] - 3s 6ms/step - loss: 1.4218 - acc: 0.3870 - val_loss: 1.4722 - val_acc: 0.3558\n",
      "Epoch 63/100\n",
      "408/416 [============================>.] - ETA: 0s - loss: 1.4197 - acc: 0.3848\n",
      "Epoch 00063: val_loss did not improve from 1.43887\n",
      "416/416 [==============================] - 3s 7ms/step - loss: 1.4145 - acc: 0.3894 - val_loss: 1.4731 - val_acc: 0.3654\n",
      "Epoch 64/100\n",
      "415/416 [============================>.] - ETA: 0s - loss: 1.4195 - acc: 0.4024\n",
      "Epoch 00064: val_loss did not improve from 1.43887\n",
      "416/416 [==============================] - 3s 6ms/step - loss: 1.4180 - acc: 0.4026 - val_loss: 1.5148 - val_acc: 0.3510\n",
      "Epoch 65/100\n",
      "415/416 [============================>.] - ETA: 0s - loss: 1.4238 - acc: 0.3627\n",
      "Epoch 00065: val_loss did not improve from 1.43887\n",
      "416/416 [==============================] - 3s 6ms/step - loss: 1.4231 - acc: 0.3630 - val_loss: 1.4606 - val_acc: 0.3750\n",
      "Epoch 66/100\n",
      "409/416 [============================>.] - ETA: 0s - loss: 1.4160 - acc: 0.3704\n",
      "Epoch 00066: val_loss did not improve from 1.43887\n",
      "416/416 [==============================] - 3s 6ms/step - loss: 1.4152 - acc: 0.3690 - val_loss: 1.4815 - val_acc: 0.3606\n",
      "Epoch 67/100\n",
      "413/416 [============================>.] - ETA: 0s - loss: 1.4192 - acc: 0.3680\n",
      "Epoch 00067: val_loss did not improve from 1.43887\n",
      "416/416 [==============================] - 3s 6ms/step - loss: 1.4218 - acc: 0.3666 - val_loss: 1.4670 - val_acc: 0.4087\n",
      "Epoch 68/100\n",
      "414/416 [============================>.] - ETA: 0s - loss: 1.4196 - acc: 0.3732\n",
      "Epoch 00068: val_loss did not improve from 1.43887\n",
      "416/416 [==============================] - 3s 6ms/step - loss: 1.4179 - acc: 0.3750 - val_loss: 1.4425 - val_acc: 0.3798\n",
      "Epoch 69/100\n",
      "408/416 [============================>.] - ETA: 0s - loss: 1.4109 - acc: 0.3922\n",
      "Epoch 00069: val_loss did not improve from 1.43887\n",
      "416/416 [==============================] - 3s 6ms/step - loss: 1.4102 - acc: 0.3906 - val_loss: 1.4894 - val_acc: 0.3558\n",
      "Epoch 70/100\n",
      "407/416 [============================>.] - ETA: 0s - loss: 1.4165 - acc: 0.3747\n",
      "Epoch 00070: val_loss did not improve from 1.43887\n",
      "416/416 [==============================] - 3s 6ms/step - loss: 1.4163 - acc: 0.3750 - val_loss: 1.4733 - val_acc: 0.3894\n",
      "Epoch 71/100\n",
      "416/416 [==============================] - ETA: 0s - loss: 1.4205 - acc: 0.3834\n",
      "Epoch 00071: val_loss did not improve from 1.43887\n",
      "416/416 [==============================] - 3s 6ms/step - loss: 1.4205 - acc: 0.3834 - val_loss: 1.4448 - val_acc: 0.3702\n",
      "Epoch 72/100\n",
      "414/416 [============================>.] - ETA: 0s - loss: 1.4108 - acc: 0.3780\n",
      "Epoch 00072: val_loss did not improve from 1.43887\n",
      "416/416 [==============================] - 3s 6ms/step - loss: 1.4106 - acc: 0.3774 - val_loss: 1.4750 - val_acc: 0.3750\n",
      "Epoch 73/100\n",
      "410/416 [============================>.] - ETA: 0s - loss: 1.4174 - acc: 0.3939\n",
      "Epoch 00073: val_loss did not improve from 1.43887\n",
      "416/416 [==============================] - 3s 7ms/step - loss: 1.4181 - acc: 0.3930 - val_loss: 1.4641 - val_acc: 0.3654\n",
      "Epoch 74/100\n",
      "412/416 [============================>.] - ETA: 0s - loss: 1.4123 - acc: 0.3883\n",
      "Epoch 00074: val_loss did not improve from 1.43887\n",
      "416/416 [==============================] - 3s 7ms/step - loss: 1.4106 - acc: 0.3882 - val_loss: 1.4442 - val_acc: 0.3894\n",
      "Epoch 75/100\n",
      "416/416 [==============================] - ETA: 0s - loss: 1.4119 - acc: 0.3822\n",
      "Epoch 00075: val_loss did not improve from 1.43887\n",
      "416/416 [==============================] - 3s 7ms/step - loss: 1.4119 - acc: 0.3822 - val_loss: 1.4738 - val_acc: 0.4038\n",
      "Epoch 76/100\n",
      "415/416 [============================>.] - ETA: 0s - loss: 1.4165 - acc: 0.3795\n",
      "Epoch 00076: val_loss did not improve from 1.43887\n",
      "416/416 [==============================] - 3s 6ms/step - loss: 1.4161 - acc: 0.3798 - val_loss: 1.4442 - val_acc: 0.3606\n",
      "Epoch 77/100\n",
      "413/416 [============================>.] - ETA: 0s - loss: 1.4193 - acc: 0.3971\n",
      "Epoch 00077: val_loss did not improve from 1.43887\n",
      "416/416 [==============================] - 3s 6ms/step - loss: 1.4183 - acc: 0.3966 - val_loss: 1.4690 - val_acc: 0.3702\n",
      "Epoch 78/100\n",
      "415/416 [============================>.] - ETA: 0s - loss: 1.4174 - acc: 0.3843\n",
      "Epoch 00078: val_loss did not improve from 1.43887\n",
      "416/416 [==============================] - 3s 6ms/step - loss: 1.4171 - acc: 0.3834 - val_loss: 1.4443 - val_acc: 0.3798\n",
      "Epoch 79/100\n",
      "412/416 [============================>.] - ETA: 0s - loss: 1.4193 - acc: 0.3799\n",
      "Epoch 00079: val_loss improved from 1.43887 to 1.42235, saving model to model/checkpoint.h5\n",
      "416/416 [==============================] - 3s 6ms/step - loss: 1.4169 - acc: 0.3798 - val_loss: 1.4223 - val_acc: 0.4087\n",
      "Epoch 80/100\n",
      "411/416 [============================>.] - ETA: 0s - loss: 1.4187 - acc: 0.3747\n",
      "Epoch 00080: val_loss did not improve from 1.42235\n",
      "416/416 [==============================] - 3s 7ms/step - loss: 1.4129 - acc: 0.3786 - val_loss: 1.4499 - val_acc: 0.3798\n",
      "Epoch 81/100\n",
      "410/416 [============================>.] - ETA: 0s - loss: 1.4107 - acc: 0.3976\n",
      "Epoch 00081: val_loss did not improve from 1.42235\n",
      "416/416 [==============================] - 3s 6ms/step - loss: 1.4142 - acc: 0.3954 - val_loss: 1.4829 - val_acc: 0.3413\n",
      "Epoch 82/100\n",
      "414/416 [============================>.] - ETA: 0s - loss: 1.4165 - acc: 0.3865\n",
      "Epoch 00082: val_loss did not improve from 1.42235\n",
      "416/416 [==============================] - 3s 7ms/step - loss: 1.4151 - acc: 0.3870 - val_loss: 1.4264 - val_acc: 0.4231\n",
      "Epoch 83/100\n",
      "414/416 [============================>.] - ETA: 0s - loss: 1.4154 - acc: 0.3768\n",
      "Epoch 00083: val_loss did not improve from 1.42235\n",
      "416/416 [==============================] - 3s 6ms/step - loss: 1.4135 - acc: 0.3774 - val_loss: 1.4584 - val_acc: 0.3990\n",
      "Epoch 84/100\n",
      "416/416 [==============================] - ETA: 0s - loss: 1.4112 - acc: 0.3798\n",
      "Epoch 00084: val_loss did not improve from 1.42235\n",
      "416/416 [==============================] - 3s 6ms/step - loss: 1.4112 - acc: 0.3798 - val_loss: 1.4750 - val_acc: 0.3702\n",
      "Epoch 85/100\n",
      "411/416 [============================>.] - ETA: 0s - loss: 1.4217 - acc: 0.4002\n",
      "Epoch 00085: val_loss did not improve from 1.42235\n",
      "416/416 [==============================] - 3s 6ms/step - loss: 1.4163 - acc: 0.4050 - val_loss: 1.5035 - val_acc: 0.3606\n",
      "Epoch 86/100\n",
      "412/416 [============================>.] - ETA: 0s - loss: 1.4099 - acc: 0.3908\n",
      "Epoch 00086: val_loss did not improve from 1.42235\n",
      "416/416 [==============================] - 3s 6ms/step - loss: 1.4084 - acc: 0.3894 - val_loss: 1.4682 - val_acc: 0.3702\n",
      "Epoch 87/100\n",
      "410/416 [============================>.] - ETA: 0s - loss: 1.4115 - acc: 0.3829\n",
      "Epoch 00087: val_loss did not improve from 1.42235\n",
      "416/416 [==============================] - 3s 6ms/step - loss: 1.4092 - acc: 0.3858 - val_loss: 1.4456 - val_acc: 0.3990\n",
      "Epoch 88/100\n",
      "412/416 [============================>.] - ETA: 0s - loss: 1.4165 - acc: 0.3786\n",
      "Epoch 00088: val_loss did not improve from 1.42235\n",
      "416/416 [==============================] - 3s 6ms/step - loss: 1.4156 - acc: 0.3786 - val_loss: 1.4754 - val_acc: 0.4135\n",
      "Epoch 89/100\n",
      "409/416 [============================>.] - ETA: 0s - loss: 1.4135 - acc: 0.3936\n",
      "Epoch 00089: val_loss did not improve from 1.42235\n",
      "416/416 [==============================] - 3s 6ms/step - loss: 1.4113 - acc: 0.3918 - val_loss: 1.4490 - val_acc: 0.3942\n",
      "Epoch 90/100\n",
      "412/416 [============================>.] - ETA: 0s - loss: 1.4065 - acc: 0.4066\n",
      "Epoch 00090: val_loss did not improve from 1.42235\n",
      "416/416 [==============================] - 3s 7ms/step - loss: 1.4063 - acc: 0.4063 - val_loss: 1.4790 - val_acc: 0.4231\n",
      "Epoch 91/100\n",
      "413/416 [============================>.] - ETA: 0s - loss: 1.4109 - acc: 0.3947\n",
      "Epoch 00091: val_loss did not improve from 1.42235\n",
      "416/416 [==============================] - 3s 6ms/step - loss: 1.4116 - acc: 0.3954 - val_loss: 1.4706 - val_acc: 0.3654\n",
      "Epoch 92/100\n",
      "407/416 [============================>.] - ETA: 0s - loss: 1.4137 - acc: 0.3808\n",
      "Epoch 00092: val_loss did not improve from 1.42235\n",
      "416/416 [==============================] - 3s 6ms/step - loss: 1.4118 - acc: 0.3786 - val_loss: 1.4547 - val_acc: 0.3894\n",
      "Epoch 93/100\n",
      "413/416 [============================>.] - ETA: 0s - loss: 1.4044 - acc: 0.3923\n",
      "Epoch 00093: val_loss did not improve from 1.42235\n",
      "416/416 [==============================] - 3s 6ms/step - loss: 1.4062 - acc: 0.3918 - val_loss: 1.4495 - val_acc: 0.3798\n",
      "Epoch 94/100\n",
      "408/416 [============================>.] - ETA: 0s - loss: 1.4023 - acc: 0.4056\n",
      "Epoch 00094: val_loss did not improve from 1.42235\n",
      "416/416 [==============================] - 3s 6ms/step - loss: 1.4029 - acc: 0.4038 - val_loss: 1.4456 - val_acc: 0.3846\n",
      "Epoch 95/100\n",
      "411/416 [============================>.] - ETA: 0s - loss: 1.4019 - acc: 0.3954\n",
      "Epoch 00095: val_loss did not improve from 1.42235\n",
      "416/416 [==============================] - 3s 6ms/step - loss: 1.4012 - acc: 0.3942 - val_loss: 1.4508 - val_acc: 0.3846\n",
      "Epoch 96/100\n",
      "416/416 [==============================] - ETA: 0s - loss: 1.4099 - acc: 0.3846\n",
      "Epoch 00096: val_loss did not improve from 1.42235\n",
      "416/416 [==============================] - 3s 6ms/step - loss: 1.4099 - acc: 0.3846 - val_loss: 1.4610 - val_acc: 0.3846\n",
      "Epoch 97/100\n",
      "415/416 [============================>.] - ETA: 0s - loss: 1.4114 - acc: 0.3783\n",
      "Epoch 00097: val_loss did not improve from 1.42235\n",
      "416/416 [==============================] - 3s 6ms/step - loss: 1.4103 - acc: 0.3786 - val_loss: 1.4804 - val_acc: 0.3462\n",
      "Epoch 98/100\n",
      "407/416 [============================>.] - ETA: 0s - loss: 1.4030 - acc: 0.3931\n",
      "Epoch 00098: val_loss did not improve from 1.42235\n",
      "416/416 [==============================] - 3s 6ms/step - loss: 1.4035 - acc: 0.3942 - val_loss: 1.4314 - val_acc: 0.4087\n",
      "Epoch 99/100\n",
      "407/416 [============================>.] - ETA: 0s - loss: 1.4043 - acc: 0.3796\n",
      "Epoch 00099: val_loss did not improve from 1.42235\n",
      "416/416 [==============================] - 3s 6ms/step - loss: 1.4085 - acc: 0.3762 - val_loss: 1.4470 - val_acc: 0.3798\n",
      "Epoch 100/100\n",
      "408/416 [============================>.] - ETA: 0s - loss: 1.4083 - acc: 0.3922\n",
      "Epoch 00100: val_loss did not improve from 1.42235\n",
      "416/416 [==============================] - 3s 6ms/step - loss: 1.4058 - acc: 0.3930 - val_loss: 1.4727 - val_acc: 0.3702\n"
     ]
    }
   ],
   "source": [
    "history = model.fit(X_train, Y_train, \n",
    "                    validation_data=(X_valid, Y_valid), \n",
    "                    epochs=100, \n",
    "                    batch_size=2,\n",
    "                    callbacks=[checkpoint])"
   ]
  },
  {
   "cell_type": "code",
   "execution_count": 25,
   "metadata": {},
   "outputs": [
    {
     "data": {
      "image/png": "[encoded data removed]",
      "text/plain": [
       "<Figure size 432x288 with 1 Axes>"
      ]
     },
     "metadata": {
      "needs_background": "light"
     },
     "output_type": "display_data"
    }
   ],
   "source": [
    "plt.plot(history.history['loss'])\n",
    "plt.plot(history.history['val_loss'])\n",
    "plt.ylabel('loss')\n",
    "plt.xlabel('epoch')\n",
    "plt.legend(['loss', 'val_loss'])\n",
    "plt.show()"
   ]
  },
  {
   "cell_type": "code",
   "execution_count": 26,
   "metadata": {},
   "outputs": [
    {
     "data": {
      "image/png": "[encoded data removed]",
      "text/plain": [
       "<Figure size 432x288 with 1 Axes>"
      ]
     },
     "metadata": {
      "needs_background": "light"
     },
     "output_type": "display_data"
    }
   ],
   "source": [
    "plt.plot(history.history['acc'])\n",
    "plt.plot(history.history['val_acc'])\n",
    "plt.ylabel('accuracy')\n",
    "plt.xlabel('epoch')\n",
    "plt.legend(['acc', 'val_acc'])\n",
    "plt.show()"
   ]
  },
  {
   "cell_type": "code",
   "execution_count": 29,
   "metadata": {},
   "outputs": [],
   "source": [
    "# weigh save\n",
    "model.save_weights('weights/prediction_model_weighs.h5')"
   ]
  },
  {
   "cell_type": "code",
   "execution_count": 28,
   "metadata": {},
   "outputs": [],
   "source": [
    "# save model weights once\n",
    "model.save('model/prediction_model.h5')"
   ]
  },
  {
   "cell_type": "code",
   "execution_count": null,
   "metadata": {},
   "outputs": [],
   "source": []
  }
 ],
 "metadata": {
  "kernelspec": {
   "display_name": "Python 3 (ipykernel)",
   "language": "python",
   "name": "python3"
  },
  "language_info": {
   "codemirror_mode": {
    "name": "ipython",
    "version": 3
   },
   "file_extension": ".py",
   "mimetype": "text/x-python",
   "name": "python",
   "nbconvert_exporter": "python",
   "pygments_lexer": "ipython3",
   "version": "3.8.13"
  }
 },
 "nbformat": 4,
 "nbformat_minor": 4
}
